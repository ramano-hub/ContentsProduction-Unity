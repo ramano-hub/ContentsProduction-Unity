{
  "nbformat": 4,
  "nbformat_minor": 0,
  "metadata": {
    "colab": {
      "provenance": [],
      "authorship_tag": "ABX9TyNIKNIu7VcwjTULsy5d5GX1",
      "include_colab_link": true
    },
    "kernelspec": {
      "name": "python3",
      "display_name": "Python 3"
    },
    "language_info": {
      "name": "python"
    }
  },
  "cells": [
    {
      "cell_type": "markdown",
      "metadata": {
        "id": "view-in-github",
        "colab_type": "text"
      },
      "source": [
        "<a href=\"https://colab.research.google.com/github/ramano-hub/ContentsProduction-Unity/blob/main/Untitled1.ipynb\" target=\"_parent\"><img src=\"https://colab.research.google.com/assets/colab-badge.svg\" alt=\"Open In Colab\"/></a>"
      ]
    },
    {
      "cell_type": "code",
      "execution_count": 11,
      "metadata": {
        "colab": {
          "base_uri": "https://localhost:8080/",
          "height": 455
        },
        "id": "vlkvX8kwa6m7",
        "outputId": "106209d1-a1fd-4b61-fd2c-7547f4c6b401"
      },
      "outputs": [
        {
          "output_type": "stream",
          "name": "stdout",
          "text": [
            "A new enemy appears!\n",
            "player\u001b[32m HP: 100 MP:\u001b[0m 100\n",
            "Enemy HP: 100\n",
            "Choose action:\n",
            "0: Attack\n",
            "1: Spell 1 (Damage: 1, Cost: 1)\n"
          ]
        },
        {
          "output_type": "error",
          "ename": "KeyboardInterrupt",
          "evalue": "ignored",
          "traceback": [
            "\u001b[0;31m---------------------------------------------------------------------------\u001b[0m",
            "\u001b[0;31mKeyboardInterrupt\u001b[0m                         Traceback (most recent call last)",
            "\u001b[0;32m<ipython-input-11-1ce36eba019e>\u001b[0m in \u001b[0;36m<cell line: 89>\u001b[0;34m()\u001b[0m\n\u001b[1;32m     87\u001b[0m        \u001b[0mbattle\u001b[0m\u001b[0;34m(\u001b[0m\u001b[0mplayer\u001b[0m\u001b[0;34m,\u001b[0m \u001b[0menemy\u001b[0m\u001b[0;34m)\u001b[0m\u001b[0;34m\u001b[0m\u001b[0;34m\u001b[0m\u001b[0m\n\u001b[1;32m     88\u001b[0m \u001b[0;34m\u001b[0m\u001b[0m\n\u001b[0;32m---> 89\u001b[0;31m \u001b[0mgame\u001b[0m\u001b[0;34m(\u001b[0m\u001b[0;34m)\u001b[0m\u001b[0;34m\u001b[0m\u001b[0;34m\u001b[0m\u001b[0m\n\u001b[0m",
            "\u001b[0;32m<ipython-input-11-1ce36eba019e>\u001b[0m in \u001b[0;36mgame\u001b[0;34m()\u001b[0m\n\u001b[1;32m     85\u001b[0m        \u001b[0menemy\u001b[0m \u001b[0;34m=\u001b[0m \u001b[0mEnemy\u001b[0m\u001b[0;34m(\u001b[0m\u001b[0mrandom\u001b[0m\u001b[0;34m.\u001b[0m\u001b[0mrandint\u001b[0m\u001b[0;34m(\u001b[0m\u001b[0mplayer\u001b[0m\u001b[0;34m.\u001b[0m\u001b[0mlevel\u001b[0m\u001b[0;34m,\u001b[0m \u001b[0mplayer\u001b[0m\u001b[0;34m.\u001b[0m\u001b[0mlevel\u001b[0m \u001b[0;34m+\u001b[0m \u001b[0;36m3\u001b[0m\u001b[0;34m)\u001b[0m\u001b[0;34m)\u001b[0m\u001b[0;34m\u001b[0m\u001b[0;34m\u001b[0m\u001b[0m\n\u001b[1;32m     86\u001b[0m        \u001b[0mprint\u001b[0m\u001b[0;34m(\u001b[0m\u001b[0;34m\"A new enemy appears!\"\u001b[0m\u001b[0;34m)\u001b[0m\u001b[0;34m\u001b[0m\u001b[0;34m\u001b[0m\u001b[0m\n\u001b[0;32m---> 87\u001b[0;31m        \u001b[0mbattle\u001b[0m\u001b[0;34m(\u001b[0m\u001b[0mplayer\u001b[0m\u001b[0;34m,\u001b[0m \u001b[0menemy\u001b[0m\u001b[0;34m)\u001b[0m\u001b[0;34m\u001b[0m\u001b[0;34m\u001b[0m\u001b[0m\n\u001b[0m\u001b[1;32m     88\u001b[0m \u001b[0;34m\u001b[0m\u001b[0m\n\u001b[1;32m     89\u001b[0m \u001b[0mgame\u001b[0m\u001b[0;34m(\u001b[0m\u001b[0;34m)\u001b[0m\u001b[0;34m\u001b[0m\u001b[0;34m\u001b[0m\u001b[0m\n",
            "\u001b[0;32m<ipython-input-11-1ce36eba019e>\u001b[0m in \u001b[0;36mbattle\u001b[0;34m(player, enemy)\u001b[0m\n\u001b[1;32m     65\u001b[0m        \u001b[0;32mfor\u001b[0m \u001b[0mi\u001b[0m\u001b[0;34m,\u001b[0m \u001b[0;34m(\u001b[0m\u001b[0mspell_name\u001b[0m\u001b[0;34m,\u001b[0m \u001b[0mspell_damage\u001b[0m\u001b[0;34m,\u001b[0m \u001b[0mspell_cost\u001b[0m\u001b[0;34m)\u001b[0m \u001b[0;32min\u001b[0m \u001b[0menumerate\u001b[0m\u001b[0;34m(\u001b[0m\u001b[0mplayer\u001b[0m\u001b[0;34m.\u001b[0m\u001b[0mspells\u001b[0m\u001b[0;34m)\u001b[0m\u001b[0;34m:\u001b[0m\u001b[0;34m\u001b[0m\u001b[0;34m\u001b[0m\u001b[0m\n\u001b[1;32m     66\u001b[0m            \u001b[0mprint\u001b[0m\u001b[0;34m(\u001b[0m\u001b[0;34mf\"{i+1}: {spell_name} (Damage: {spell_damage}, Cost: {spell_cost})\"\u001b[0m\u001b[0;34m)\u001b[0m\u001b[0;34m\u001b[0m\u001b[0;34m\u001b[0m\u001b[0m\n\u001b[0;32m---> 67\u001b[0;31m        \u001b[0maction\u001b[0m \u001b[0;34m=\u001b[0m \u001b[0mint\u001b[0m\u001b[0;34m(\u001b[0m\u001b[0minput\u001b[0m\u001b[0;34m(\u001b[0m\u001b[0;34m)\u001b[0m\u001b[0;34m)\u001b[0m\u001b[0;34m\u001b[0m\u001b[0;34m\u001b[0m\u001b[0m\n\u001b[0m\u001b[1;32m     68\u001b[0m        \u001b[0;32mif\u001b[0m \u001b[0maction\u001b[0m \u001b[0;34m==\u001b[0m \u001b[0;36m0\u001b[0m\u001b[0;34m:\u001b[0m\u001b[0;34m\u001b[0m\u001b[0;34m\u001b[0m\u001b[0m\n\u001b[1;32m     69\u001b[0m            \u001b[0menemy_damage\u001b[0m \u001b[0;34m=\u001b[0m \u001b[0mplayer\u001b[0m\u001b[0;34m.\u001b[0m\u001b[0mattack\u001b[0m\u001b[0;34m(\u001b[0m\u001b[0;34m)\u001b[0m\u001b[0;34m\u001b[0m\u001b[0;34m\u001b[0m\u001b[0m\n",
            "\u001b[0;32m/usr/local/lib/python3.10/dist-packages/ipykernel/kernelbase.py\u001b[0m in \u001b[0;36mraw_input\u001b[0;34m(self, prompt)\u001b[0m\n\u001b[1;32m    849\u001b[0m                 \u001b[0;34m\"raw_input was called, but this frontend does not support input requests.\"\u001b[0m\u001b[0;34m\u001b[0m\u001b[0;34m\u001b[0m\u001b[0m\n\u001b[1;32m    850\u001b[0m             )\n\u001b[0;32m--> 851\u001b[0;31m         return self._input_request(str(prompt),\n\u001b[0m\u001b[1;32m    852\u001b[0m             \u001b[0mself\u001b[0m\u001b[0;34m.\u001b[0m\u001b[0m_parent_ident\u001b[0m\u001b[0;34m,\u001b[0m\u001b[0;34m\u001b[0m\u001b[0;34m\u001b[0m\u001b[0m\n\u001b[1;32m    853\u001b[0m             \u001b[0mself\u001b[0m\u001b[0;34m.\u001b[0m\u001b[0m_parent_header\u001b[0m\u001b[0;34m,\u001b[0m\u001b[0;34m\u001b[0m\u001b[0;34m\u001b[0m\u001b[0m\n",
            "\u001b[0;32m/usr/local/lib/python3.10/dist-packages/ipykernel/kernelbase.py\u001b[0m in \u001b[0;36m_input_request\u001b[0;34m(self, prompt, ident, parent, password)\u001b[0m\n\u001b[1;32m    893\u001b[0m             \u001b[0;32mexcept\u001b[0m \u001b[0mKeyboardInterrupt\u001b[0m\u001b[0;34m:\u001b[0m\u001b[0;34m\u001b[0m\u001b[0;34m\u001b[0m\u001b[0m\n\u001b[1;32m    894\u001b[0m                 \u001b[0;31m# re-raise KeyboardInterrupt, to truncate traceback\u001b[0m\u001b[0;34m\u001b[0m\u001b[0;34m\u001b[0m\u001b[0m\n\u001b[0;32m--> 895\u001b[0;31m                 \u001b[0;32mraise\u001b[0m \u001b[0mKeyboardInterrupt\u001b[0m\u001b[0;34m(\u001b[0m\u001b[0;34m\"Interrupted by user\"\u001b[0m\u001b[0;34m)\u001b[0m \u001b[0;32mfrom\u001b[0m \u001b[0;32mNone\u001b[0m\u001b[0;34m\u001b[0m\u001b[0;34m\u001b[0m\u001b[0m\n\u001b[0m\u001b[1;32m    896\u001b[0m             \u001b[0;32mexcept\u001b[0m \u001b[0mException\u001b[0m \u001b[0;32mas\u001b[0m \u001b[0me\u001b[0m\u001b[0;34m:\u001b[0m\u001b[0;34m\u001b[0m\u001b[0;34m\u001b[0m\u001b[0m\n\u001b[1;32m    897\u001b[0m                 \u001b[0mself\u001b[0m\u001b[0;34m.\u001b[0m\u001b[0mlog\u001b[0m\u001b[0;34m.\u001b[0m\u001b[0mwarning\u001b[0m\u001b[0;34m(\u001b[0m\u001b[0;34m\"Invalid Message:\"\u001b[0m\u001b[0;34m,\u001b[0m \u001b[0mexc_info\u001b[0m\u001b[0;34m=\u001b[0m\u001b[0;32mTrue\u001b[0m\u001b[0;34m)\u001b[0m\u001b[0;34m\u001b[0m\u001b[0;34m\u001b[0m\u001b[0m\n",
            "\u001b[0;31mKeyboardInterrupt\u001b[0m: Interrupted by user"
          ]
        }
      ],
      "source": [
        "import random\n",
        "from colorama import Fore, Style\n",
        "\n",
        "\n",
        "class Player:\n",
        "   def __init__(self):\n",
        "       self.hp = 100\n",
        "       self.mp = 100\n",
        "       self.level = 1\n",
        "       self.exp = 0\n",
        "       self.spells = [(f'Spell {i+1}', max(1, random.randint(1, self.level * 5)), max(1, random.randint(1, self.level))) for i in range(self.level)]\n",
        "\n",
        "   def attack(self):\n",
        "       return max(1, random.randint(1, 10) * self.level)\n",
        "\n",
        "   def cast_spell(self, index):\n",
        "       spell_name, spell_damage, spell_cost = self.spells[index]\n",
        "       if self.mp >= spell_cost:\n",
        "           self.mp -= spell_cost\n",
        "           return spell_damage\n",
        "       else:\n",
        "           print(\"Not enough MP!\")\n",
        "           return 0\n",
        "\n",
        "   def take_damage(self, damage):\n",
        "       self.hp -= damage\n",
        "       if self.hp <= 0:\n",
        "           print(\"You have been defeated.\")\n",
        "           exit()\n",
        "\n",
        "   def gain_exp(self, exp):\n",
        "       self.exp += exp\n",
        "       if self.exp >= self.level * 10:\n",
        "           self.level_up()\n",
        "\n",
        "   def level_up(self):\n",
        "       self.level += 1\n",
        "       self.hp = self.level * 100\n",
        "       self.mp = self.level * 100\n",
        "       self.exp = 0\n",
        "       self.spells.append((f'Spell {len(self.spells) + 1}', max(1, random.randint(1, self.level * 5)), max(1, random.randint(1, self.level))))\n",
        "       print(\"Level up! New level:\", self.level)\n",
        "\n",
        "class Enemy:\n",
        "   def __init__(self, level):\n",
        "       self.level = level\n",
        "       self.hp = level * 50\n",
        "\n",
        "   def attack(self):\n",
        "       return max(1, random.randint(1, 10) * self.level)\n",
        "\n",
        "   def take_damage(self, damage):\n",
        "       self.hp -= damage\n",
        "       if self.hp <= 0:\n",
        "           return True\n",
        "       else:\n",
        "           return False\n",
        "\n",
        "def battle(player, enemy):\n",
        "   while True:\n",
        "       print(\"player\"f\"{Fore.GREEN} HP:\", player.hp, f\"MP:{Style.RESET_ALL}\", player.mp)\n",
        "       print(\"Enemy HP:\", enemy.hp)\n",
        "       print(\"Choose action:\")\n",
        "       print(\"0: Attack\")\n",
        "       for i, (spell_name, spell_damage, spell_cost) in enumerate(player.spells):\n",
        "           print(f\"{i+1}: {spell_name} (Damage: {spell_damage}, Cost: {spell_cost})\")\n",
        "       action = int(input())\n",
        "       if action == 0:\n",
        "           enemy_damage = player.attack()\n",
        "           print(\"You dealt\", enemy_damage, \"damage!\")\n",
        "       else:\n",
        "           enemy_damage = player.cast_spell(action-1)\n",
        "           print(\"You dealt\", enemy_damage, \"damage with\", player.spells[action-1][0], \"!\")\n",
        "       if enemy.take_damage(enemy_damage):\n",
        "           print(\"Enemy defeated!\")\n",
        "           player.gain_exp(enemy.level)\n",
        "           return\n",
        "       player_damage = enemy.attack()\n",
        "       print(\"Enemy dealt\", player_damage, \"damage!\")\n",
        "       player.take_damage(player_damage)\n",
        "\n",
        "def game():\n",
        "   player = Player()\n",
        "   while True:\n",
        "       enemy = Enemy(random.randint(player.level, player.level + 3))\n",
        "       print(\"A new enemy appears!\")\n",
        "       battle(player, enemy)\n",
        "\n",
        "game()"
      ]
    },
    {
      "cell_type": "code",
      "source": [
        "!pip install colorama\n"
      ],
      "metadata": {
        "colab": {
          "base_uri": "https://localhost:8080/"
        },
        "id": "ZkV4vbbLbcAR",
        "outputId": "35e5e7e5-8fe6-42b6-cd99-e57ad7821bee"
      },
      "execution_count": 6,
      "outputs": [
        {
          "output_type": "stream",
          "name": "stdout",
          "text": [
            "Looking in indexes: https://pypi.org/simple, https://us-python.pkg.dev/colab-wheels/public/simple/\n",
            "Collecting colorama\n",
            "  Downloading colorama-0.4.6-py2.py3-none-any.whl (25 kB)\n",
            "Installing collected packages: colorama\n",
            "Successfully installed colorama-0.4.6\n"
          ]
        }
      ]
    },
    {
      "cell_type": "code",
      "source": [],
      "metadata": {
        "id": "xDs9GgAm4JMO"
      },
      "execution_count": null,
      "outputs": []
    }
  ]
}